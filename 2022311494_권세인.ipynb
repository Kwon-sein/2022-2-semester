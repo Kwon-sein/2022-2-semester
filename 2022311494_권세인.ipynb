{
 "cells": [
  {
   "cell_type": "code",
   "execution_count": 3,
   "id": "5732fdc5",
   "metadata": {},
   "outputs": [],
   "source": [
    "import psycopg\n",
    "from psycopg import sql\n",
    "import os\n",
    "import glob"
   ]
  },
  {
   "cell_type": "code",
   "execution_count": 4,
   "id": "20ab7593",
   "metadata": {},
   "outputs": [],
   "source": [
    "HOST = 'localhost'\n",
    "DBNAME = 'assignment_2'\n",
    "USER = 'postgres'\n",
    "PASSWORD = '080525'"
   ]
  },
  {
   "cell_type": "code",
   "execution_count": 5,
   "id": "2008f4e8",
   "metadata": {},
   "outputs": [],
   "source": [
    "CONNECTION = f\"host={HOST} dbname={DBNAME} user={USER} password={PASSWORD}\""
   ]
  },
  {
   "cell_type": "code",
   "execution_count": 11,
   "id": "fbd0718b",
   "metadata": {},
   "outputs": [
    {
     "name": "stdout",
     "output_type": "stream",
     "text": [
      "(0, 'Hong', 1, 'seoul', '010-0000-0000')\n",
      "(1, 'Lee', 2, 'Incheon', '010-1111-1111')\n",
      "(2, 'Kim', 3, 'Suwon', '010-2222-2222')\n",
      "(3, 'Kwon', 4, 'Seoul', '010-1111-3333')\n",
      "(4, 'Choi', 5, 'Busan', '010-4444-1111')\n"
     ]
    }
   ],
   "source": [
    "with psycopg.connect(CONNECTION) as conn:\n",
    "    with conn.cursor() as cur:\n",
    "        cur.execute(\"\"\"\n",
    "            create table ex_table3 (\n",
    "                num integer NOT NULL,\n",
    "                name character varying (45),\n",
    "                \"studentID\" integer,\n",
    "                address character varying (45),\n",
    "                phone character varying (45),\n",
    "                CONSTRAINT ex_table3_pkey PRIMARY KEY (num)\n",
    "                )\n",
    "                \"\"\")\n",
    "        \n",
    "        SQL_INSERT = \"\"\"INSERT INTO ex_table3(num, name, \"studentID\", address, phone) values (%s, %s, %s, %s, %s)\"\"\"\n",
    "        with conn.pipeline() as p:\n",
    "            cur.execute(SQL_INSERT, (0, 'Hong', 1, 'seoul', '010-0000-0000'))\n",
    "            cur.execute(SQL_INSERT, (1, 'Lee', 2, 'Incheon', '010-1111-1111'))\n",
    "            cur.execute(SQL_INSERT, (2, 'Kim', 3, 'Suwon', '010-2222-2222'))\n",
    "            cur.execute(SQL_INSERT, (3, 'Kwon', 4, 'Seoul', '010-1111-3333'))\n",
    "            cur.execute(SQL_INSERT, (4, 'Choi', 5, 'Busan', '010-4444-1111'))\n",
    "            \n",
    "        cur.execute(\"select * from ex_table3\")\n",
    "        records = cur.fetchall()\n",
    "        \n",
    "        for record in records:\n",
    "            print(record)"
   ]
  },
  {
   "cell_type": "code",
   "execution_count": 9,
   "id": "80922856",
   "metadata": {},
   "outputs": [],
   "source": [
    "with psycopg.connect(CONNECTION) as conn:\n",
    "    \n",
    "    conn.execute (\"\"\"\n",
    "        create table if not exists \"department\"\n",
    "        (\"dept_name\" varchar(20),\n",
    "         \"building\" varchar(15),\n",
    "         \"budget\" numeric(12,2), check (budget > 0),\n",
    "         primary key (\"dept_name\")\n",
    "        )\n",
    "        \"\"\")\n",
    "    \n",
    "    conn.execute (\"\"\"\n",
    "        create table if not exists \"course\"\n",
    "        (\"course_id\" varchar(8),\n",
    "         \"title\" varchar(50),\n",
    "         \"dept_name\" varchar(20),\n",
    "         \"credits\" numeric(2,0) check (\"credits\" > 0),\n",
    "         primary key (\"course_id\"),\n",
    "         foreign key (\"dept_name\") references \"department\" (\"dept_name\")\n",
    "         on delete set null\n",
    "        )\n",
    "        \"\"\")\n",
    "    \n",
    "    conn.commit()"
   ]
  },
  {
   "cell_type": "code",
   "execution_count": 17,
   "id": "84125fb4",
   "metadata": {},
   "outputs": [
    {
     "name": "stdout",
     "output_type": "stream",
     "text": [
      "('course',)\n",
      "('department',)\n",
      "('ex_table2',)\n",
      "('ex_table3',)\n",
      "('instructor',)\n"
     ]
    }
   ],
   "source": [
    "with psycopg.connect(CONNECTION) as conn:\n",
    "    \n",
    "    conn.execute(\n",
    "    sql.SQL(\"\"\"\n",
    "    create table if not exists {table}(\n",
    "    {column1} varchar(5),\n",
    "    {column2} varchar(20) not null,\n",
    "    {column3} varchar(20),\n",
    "    {column4} numeric(8,2) check ({column4} > 29000),\n",
    "    primary key ({column1}),\n",
    "    foreign key ({column3}) references {ref_table}({ref_column})\n",
    "    on delete set null)\"\"\")\n",
    "    .format (table = sql.Identifier('instructor'),\n",
    "             column1 = sql.Identifier ('id'),\n",
    "             column2 = sql.Identifier ('name'),\n",
    "             column3 = sql.Identifier ('dept_name'),\n",
    "             column4 = sql.Identifier ('salary'),\n",
    "             ref_table = sql.Identifier ('department'),\n",
    "             ref_column = sql.Identifier('dept_name')\n",
    "            ))\n",
    "    \n",
    "    cur = conn.execute(\"\"\"\n",
    "        select \"table_name\"\n",
    "        from \"information_schema\".\"tables\"\n",
    "        where \"table_schema\" = %s\n",
    "        order by \"table_name\";\n",
    "        \"\"\",('public',))\n",
    "    \n",
    "    records = cur.fetchall()\n",
    "    for record in records:\n",
    "        print(record)\n",
    "        \n",
    "    conn.commit()"
   ]
  },
  {
   "cell_type": "code",
   "execution_count": 22,
   "id": "abdc825b",
   "metadata": {},
   "outputs": [
    {
     "name": "stdout",
     "output_type": "stream",
     "text": [
      "('Biology', 'Watson', Decimal('90000.00'))\n",
      "('CS', 'Watson', Decimal('100000.00'))\n",
      "('KOR', 'Taylor', Decimal('80000.00'))\n",
      "('Elec', 'Painter', Decimal('120000.00'))\n",
      "('Eng', 'Painter', Decimal('50000.00'))\n",
      "('Music', 'Packard', Decimal('80000.00'))\n",
      "('Finance', 'Watson', Decimal('130000.00'))\n"
     ]
    }
   ],
   "source": [
    "with psycopg.connect(CONNECTION) as conn:\n",
    "    \n",
    "    conn.execute (sql.SQL(\"DELETE FROM {}\").format(sql.Identifier('public', 'department')))\n",
    "    \n",
    "    with conn.pipeline() as p:\n",
    "        query = sql.SQL (\"INSERT INTO {} VALUES (%s, %s, %s)\"). format(sql.Identifier('public', 'department'))\n",
    "        \n",
    "        conn.execute(query, ('Biology', 'Watson', '90000'))\n",
    "        conn.execute(query, ('CS', 'Watson', '100000'))\n",
    "        conn.execute(query, ('KOR', 'Taylor', '80000'))\n",
    "        conn.execute(query, ('Elec', 'Painter', '120000'))\n",
    "        conn.execute(query, ('Eng', 'Painter', '50000'))\n",
    "        conn.execute(query, ('Music', 'Packard', '80000'))\n",
    "        conn.execute(query, ('Finance', 'Watson', '130000'))\n",
    "       \n",
    "    cur = conn.execute(\"\"\"select * from \"department\"; \"\"\")\n",
    "    \n",
    "    records = cur.fetchall()\n",
    "    for record in records:\n",
    "        print(record)\n",
    "        \n",
    "    conn.commit()"
   ]
  },
  {
   "cell_type": "code",
   "execution_count": 24,
   "id": "418eb2af",
   "metadata": {},
   "outputs": [
    {
     "name": "stdout",
     "output_type": "stream",
     "text": [
      "('Biology', 'Watson', Decimal('90000.00'))\n",
      "('CS', 'Watson', Decimal('100000.00'))\n",
      "('KOR', 'Taylor', Decimal('80000.00'))\n",
      "('Elec', 'Painter', Decimal('120000.00'))\n",
      "('Eng', 'Painter', Decimal('50000.00'))\n",
      "('Music', 'Packard', Decimal('80000.00'))\n",
      "('Finance', 'Watson', Decimal('130000.00'))\n"
     ]
    }
   ],
   "source": [
    "with psycopg.connect(CONNECTION) as conn:\n",
    "    \n",
    "    conn.execute ('DELETE FROM \"course\"')\n",
    "    query = sql.SQL (\"INSERT INTO {} VALUES ({})\"). format(\n",
    "            sql.Identifier('public', 'course'),\n",
    "            sql.SQL(',').join(sql.Placeholder()*4)\n",
    "    )\n",
    "    \n",
    "    \n",
    "    with conn.pipeline() as p:\n",
    "        \n",
    "        \n",
    "        conn.execute(query, ('BIO-101', 'Intro. to Biology','Biology','4'))\n",
    "        conn.execute(query, ('BIO-301', 'Genetics','Biology','4'))\n",
    "        conn.execute(query, ('BIO-399', 'Computational Biology','Biology','3'))\n",
    "        conn.execute(query, ('CS-101', 'Database Sysyem','CS','3'))\n",
    "        conn.execute(query, ('CS-201', 'Deep Learning','CS','4'))\n",
    "        conn.execute(query, ('FIN-201', 'Investment Banking','Finance','4'))\n",
    "        conn.execute(query, ('MU-199', 'Music Video Production' ,'Music','3'))\n",
    "       \n",
    "    cur = conn.execute(\"\"\"select * from \"department\"; \"\"\")\n",
    "    \n",
    "    records = cur.fetchall()\n",
    "    for record in records:\n",
    "        print(record)\n",
    "        \n",
    "    conn.commit()"
   ]
  },
  {
   "cell_type": "code",
   "execution_count": 37,
   "id": "b6753033",
   "metadata": {},
   "outputs": [
    {
     "name": "stdout",
     "output_type": "stream",
     "text": [
      "('10101', 'Kwon', 'CS', Decimal('65000.00'))\n",
      "('20202', 'Se', 'CS', Decimal('75000.00'))\n",
      "('10102', 'In', 'Biology', Decimal('90000.00'))\n",
      "('10103', 'Chpo', 'Music', Decimal('65000.00'))\n",
      "('20212', 'Lee', 'Finance', Decimal('40000.00'))\n",
      "('20221', 'Yeom', 'Finance', Decimal('70000.00'))\n",
      "('20222', 'Jo', 'Biology', Decimal('70000.00'))\n",
      "('10502', 'Seo', 'Biology', Decimal('65000.00'))\n",
      "('11132', 'Park', 'CS', Decimal('72000.00'))\n",
      "('58135', 'Kim', 'CS', Decimal('92000.00'))\n",
      "('16428', 'Lim', 'Eng', Decimal('80000.00'))\n"
     ]
    }
   ],
   "source": [
    "with psycopg.connect(CONNECTION) as conn:\n",
    "    \n",
    "    conn.execute(\"\"\"DELETE FROM \"public\".\"instructor\";\"\"\")\n",
    "    SQL_INSERT_INSTRUCTOR = \"INSERT INTO {0} ({1}) VALUES ({2})\"\n",
    "    LIST_INSTRUCTOR_INFO = [('10101', 'Kwon', 'CS', '65000'),\n",
    "                            ('20202', 'Se', 'CS', '75000'),\n",
    "                            ('10102', 'In', 'Biology', '90000'),\n",
    "                            ('10103', 'Chpo', 'Music', '65000'),\n",
    "                            ('20212', 'Lee', 'Finance', '40000'),\n",
    "                            ('20221', 'Yeom', 'Finance', '70000'),\n",
    "                            ('20222', 'Jo', 'Biology', '70000'),\n",
    "                            ('10502', 'Seo', 'Biology', '65000'),\n",
    "                            ('11132', 'Park', 'CS', '72000'),\n",
    "                            ('58135', 'Kim', 'CS', '92000'),\n",
    "                            ('16428', 'Lim', 'Eng', '80000')\n",
    "                           ]\n",
    "    COLNAMES_INSTRUCTOR = ['id', 'name', 'dept_name', 'salary']\n",
    "    \n",
    "    with conn.pipeline() as p:\n",
    "        for data in LIST_INSTRUCTOR_INFO:\n",
    "            query = sql.SQL(SQL_INSERT_INSTRUCTOR).format(\n",
    "            sql.Identifier('public', 'instructor'),\n",
    "            sql.SQL(', ').join(map(sql.Identifier, COLNAMES_INSTRUCTOR)),\n",
    "            sql.SQL(', ').join(sql.Placeholder()*len(COLNAMES_INSTRUCTOR))\n",
    "            )\n",
    "            conn.execute(query, data)\n",
    "            \n",
    "    query = sql.SQL(\"SELECT * FROM {}\").format(sql.Identifier('public','instructor'))\n",
    "    \n",
    "    records = conn.execute(query).fetchall()\n",
    "    for record in records:\n",
    "        print(record)\n",
    "        \n",
    "    conn.commit()"
   ]
  },
  {
   "cell_type": "code",
   "execution_count": null,
   "id": "ad48c088",
   "metadata": {
    "collapsed": true
   },
   "outputs": [],
   "source": []
  }
 ],
 "metadata": {
  "kernelspec": {
   "display_name": "Python 3 (ipykernel)",
   "language": "python",
   "name": "python3"
  },
  "language_info": {
   "codemirror_mode": {
    "name": "ipython",
    "version": 3
   },
   "file_extension": ".py",
   "mimetype": "text/x-python",
   "name": "python",
   "nbconvert_exporter": "python",
   "pygments_lexer": "ipython3",
   "version": "3.9.13"
  }
 },
 "nbformat": 4,
 "nbformat_minor": 5
}
